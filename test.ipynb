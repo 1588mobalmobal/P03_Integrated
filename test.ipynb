{
 "cells": [
  {
   "cell_type": "code",
   "execution_count": 6,
   "id": "6a63db44",
   "metadata": {},
   "outputs": [
    {
     "data": {
      "text/plain": [
       "250"
      ]
     },
     "execution_count": 6,
     "metadata": {},
     "output_type": "execute_result"
    }
   ],
   "source": [
    "\n",
    "\n",
    "heading = turret_x - body_x\n",
    "\n",
    "\n",
    "heading"
   ]
  },
  {
   "cell_type": "code",
   "execution_count": 9,
   "id": "c70246d3",
   "metadata": {},
   "outputs": [
    {
     "data": {
      "text/plain": [
       "-110"
      ]
     },
     "execution_count": 9,
     "metadata": {},
     "output_type": "execute_result"
    }
   ],
   "source": [
    "def change_degree(my_d):\n",
    "    if my_d > 180:\n",
    "        direction = -(360-my_d)\n",
    "    else:\n",
    "        direction = my_d\n",
    "    return direction\n",
    "\n",
    "body_x = change_degree(10)\n",
    "turret_x = change_degree(260)\n",
    "\n",
    "heading = turret_x - body_x\n",
    "\n",
    "heading"
   ]
  },
  {
   "cell_type": "code",
   "execution_count": 54,
   "id": "abcfa71f",
   "metadata": {},
   "outputs": [
    {
     "name": "stdout",
     "output_type": "stream",
     "text": [
      "135.0 276.6025403784439\n"
     ]
    }
   ],
   "source": [
    "import math\n",
    "import numpy as np\n",
    "\n",
    "player = [85, 190]\n",
    "enemy = [135, 275]\n",
    "distance = 100\n",
    "turret_x = math.radians(30)\n",
    "\n",
    "enemy_x = math.sin(turret_x) * distance + player[0]\n",
    "enemy_y = math.cos(turret_x) * distance + player[1]\n",
    "\n",
    "print(enemy_x, enemy_y)"
   ]
  },
  {
   "cell_type": "code",
   "execution_count": 55,
   "id": "91ae7c1f",
   "metadata": {},
   "outputs": [
    {
     "data": {
      "text/plain": [
       "[135.0, 276.6025403784439]"
      ]
     },
     "execution_count": 55,
     "metadata": {},
     "output_type": "execute_result"
    }
   ],
   "source": [
    "def get_target_coord(now_x, now_y, turret_x, distance):\n",
    "    rad = math.radians(turret_x)\n",
    "    enemy_x = math.sin(rad) * distance + now_x\n",
    "    enemy_y = math.cos(rad) * distance + now_y\n",
    "    return [enemy_x, enemy_y]\n",
    "    \n",
    "get_target_coord(85, 190, 30, 100)"
   ]
  }
 ],
 "metadata": {
  "kernelspec": {
   "display_name": "torch",
   "language": "python",
   "name": "python3"
  },
  "language_info": {
   "codemirror_mode": {
    "name": "ipython",
    "version": 3
   },
   "file_extension": ".py",
   "mimetype": "text/x-python",
   "name": "python",
   "nbconvert_exporter": "python",
   "pygments_lexer": "ipython3",
   "version": "3.11.11"
  }
 },
 "nbformat": 4,
 "nbformat_minor": 5
}
